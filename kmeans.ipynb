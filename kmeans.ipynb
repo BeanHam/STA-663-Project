{
 "cells": [
  {
   "cell_type": "code",
   "execution_count": 1,
   "metadata": {},
   "outputs": [],
   "source": [
    "class Kmeans:\n",
    "    \n",
    "    def __init__(self, k, centers=None, cost=None,iter=None, labels=None, max_iter = 1000):\n",
    "        self.max_iter = max_iter\n",
    "        self.k = k\n",
    "        self.centers = np.empty(1)\n",
    "        self.cost = []\n",
    "        self.iter = 1\n",
    "        self.labels = np.empty(1)\n",
    "\n",
    "    def calc_distances(self, data, centers, weights):\n",
    "        distance = pairwise_distances(data, centers)**2\n",
    "        min_distance = np.min(distance, axis = 1)\n",
    "        D = min_distance*weights\n",
    "        return D    \n",
    "    \n",
    "    def fit(self, data):\n",
    "        if type(data) == pd.DataFrame: data = data.values\n",
    "        nrow = data.shape[0]\n",
    "        index = np.random.choice(range(nrow), self.k, False)\n",
    "        self.centers = data[index]\n",
    "        while (self.iter <= self.max_iter):\n",
    "            distance = pairwise_distances(data, self.centers)**2\n",
    "            self.cost.append(sum(np.min(distance, axis=1)))\n",
    "            self.labels = np.argmin(distance, axis=1)\n",
    "            centers_new = np.array([np.mean(data[self.labels == i], axis=0) for i in np.unique(self.labels)])\n",
    "            if(np.all(self.centers == centers_new)): break \n",
    "            self.centers = centers_new\n",
    "            self.iter += 1\n",
    "        if (sum(np.min(pairwise_distances(data, self.centers)**2, axis=1)) != self.cost[-1]):\n",
    "            warnings.warn(\"Algorithm Did Not Converge In {} Iterations\".format(self.max_iter))\n",
    "        return self\n"
   ]
  }
 ],
 "metadata": {
  "kernelspec": {
   "display_name": "Python 3",
   "language": "python",
   "name": "python3"
  },
  "language_info": {
   "codemirror_mode": {
    "name": "ipython",
    "version": 3
   },
   "file_extension": ".py",
   "mimetype": "text/x-python",
   "name": "python",
   "nbconvert_exporter": "python",
   "pygments_lexer": "ipython3",
   "version": "3.7.0"
  }
 },
 "nbformat": 4,
 "nbformat_minor": 2
}
